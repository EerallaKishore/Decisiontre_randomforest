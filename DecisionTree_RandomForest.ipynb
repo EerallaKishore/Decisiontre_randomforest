{
  "cells": [
    {
      "cell_type": "code",
      "execution_count": null,
      "metadata": {
        "id": "2JzcZaz9UD-j"
      },
      "outputs": [],
      "source": [
        "import pandas as pd\n",
        "import numpy as np\n",
        "import matplotlib.pyplot as plt"
      ]
    },
    {
      "cell_type": "code",
      "execution_count": null,
      "metadata": {
        "id": "Rs5i4T_yUD-o",
        "outputId": "e296c7f4-7c86-49d7-e1bf-fedc03a67957"
      },
      "outputs": [
        {
          "data": {
            "text/plain": [
              "(303, 13)"
            ]
          },
          "execution_count": 3,
          "metadata": {},
          "output_type": "execute_result"
        }
      ],
      "source": [
        "dat = pd.read_csv('heart1.csv')\n",
        "dat.shape"
      ]
    },
    {
      "cell_type": "code",
      "execution_count": null,
      "metadata": {
        "id": "MbBn4hpcUD-p",
        "outputId": "ecca33f2-b52f-4ddd-a9f0-087ac257360b"
      },
      "outputs": [
        {
          "data": {
            "text/html": [
              "<div>\n",
              "<style scoped>\n",
              "    .dataframe tbody tr th:only-of-type {\n",
              "        vertical-align: middle;\n",
              "    }\n",
              "\n",
              "    .dataframe tbody tr th {\n",
              "        vertical-align: top;\n",
              "    }\n",
              "\n",
              "    .dataframe thead th {\n",
              "        text-align: right;\n",
              "    }\n",
              "</style>\n",
              "<table border=\"1\" class=\"dataframe\">\n",
              "  <thead>\n",
              "    <tr style=\"text-align: right;\">\n",
              "      <th></th>\n",
              "      <th>age</th>\n",
              "      <th>sex</th>\n",
              "      <th>cp</th>\n",
              "      <th>trestbps</th>\n",
              "      <th>chol</th>\n",
              "      <th>fbs</th>\n",
              "      <th>restecg</th>\n",
              "      <th>thalach</th>\n",
              "      <th>exang</th>\n",
              "      <th>oldpeak</th>\n",
              "      <th>slope</th>\n",
              "      <th>ca</th>\n",
              "      <th>target</th>\n",
              "    </tr>\n",
              "  </thead>\n",
              "  <tbody>\n",
              "    <tr>\n",
              "      <th>0</th>\n",
              "      <td>63</td>\n",
              "      <td>1</td>\n",
              "      <td>3</td>\n",
              "      <td>145</td>\n",
              "      <td>233</td>\n",
              "      <td>1</td>\n",
              "      <td>0</td>\n",
              "      <td>150</td>\n",
              "      <td>0</td>\n",
              "      <td>2.3</td>\n",
              "      <td>0</td>\n",
              "      <td>0</td>\n",
              "      <td>1</td>\n",
              "    </tr>\n",
              "    <tr>\n",
              "      <th>1</th>\n",
              "      <td>37</td>\n",
              "      <td>1</td>\n",
              "      <td>2</td>\n",
              "      <td>130</td>\n",
              "      <td>250</td>\n",
              "      <td>0</td>\n",
              "      <td>1</td>\n",
              "      <td>187</td>\n",
              "      <td>0</td>\n",
              "      <td>3.5</td>\n",
              "      <td>0</td>\n",
              "      <td>0</td>\n",
              "      <td>1</td>\n",
              "    </tr>\n",
              "    <tr>\n",
              "      <th>2</th>\n",
              "      <td>41</td>\n",
              "      <td>0</td>\n",
              "      <td>1</td>\n",
              "      <td>130</td>\n",
              "      <td>204</td>\n",
              "      <td>0</td>\n",
              "      <td>0</td>\n",
              "      <td>172</td>\n",
              "      <td>0</td>\n",
              "      <td>1.4</td>\n",
              "      <td>2</td>\n",
              "      <td>0</td>\n",
              "      <td>1</td>\n",
              "    </tr>\n",
              "    <tr>\n",
              "      <th>3</th>\n",
              "      <td>56</td>\n",
              "      <td>1</td>\n",
              "      <td>1</td>\n",
              "      <td>120</td>\n",
              "      <td>236</td>\n",
              "      <td>0</td>\n",
              "      <td>1</td>\n",
              "      <td>178</td>\n",
              "      <td>0</td>\n",
              "      <td>0.8</td>\n",
              "      <td>2</td>\n",
              "      <td>0</td>\n",
              "      <td>1</td>\n",
              "    </tr>\n",
              "    <tr>\n",
              "      <th>4</th>\n",
              "      <td>57</td>\n",
              "      <td>0</td>\n",
              "      <td>0</td>\n",
              "      <td>120</td>\n",
              "      <td>354</td>\n",
              "      <td>0</td>\n",
              "      <td>1</td>\n",
              "      <td>163</td>\n",
              "      <td>1</td>\n",
              "      <td>0.6</td>\n",
              "      <td>2</td>\n",
              "      <td>0</td>\n",
              "      <td>1</td>\n",
              "    </tr>\n",
              "  </tbody>\n",
              "</table>\n",
              "</div>"
            ],
            "text/plain": [
              "   age  sex  cp  trestbps  chol  fbs  restecg  thalach  exang  oldpeak  slope  \\\n",
              "0   63    1   3       145   233    1        0      150      0      2.3      0   \n",
              "1   37    1   2       130   250    0        1      187      0      3.5      0   \n",
              "2   41    0   1       130   204    0        0      172      0      1.4      2   \n",
              "3   56    1   1       120   236    0        1      178      0      0.8      2   \n",
              "4   57    0   0       120   354    0        1      163      1      0.6      2   \n",
              "\n",
              "   ca  target  \n",
              "0   0       1  \n",
              "1   0       1  \n",
              "2   0       1  \n",
              "3   0       1  \n",
              "4   0       1  "
            ]
          },
          "execution_count": 4,
          "metadata": {},
          "output_type": "execute_result"
        }
      ],
      "source": [
        "dat.head()"
      ]
    },
    {
      "cell_type": "code",
      "execution_count": null,
      "metadata": {
        "id": "LdOyKEn8UD-q",
        "outputId": "7c1d24d4-3319-41f6-af6f-b4b900ee5ff4"
      },
      "outputs": [
        {
          "name": "stdout",
          "output_type": "stream",
          "text": [
            "0 2\n",
            "1 3\n",
            "2 4\n"
          ]
        }
      ],
      "source": [
        "a = [2,3,4]\n",
        "for idx, i in enumerate(a):\n",
        "    print(idx, i)"
      ]
    },
    {
      "cell_type": "code",
      "execution_count": null,
      "metadata": {
        "id": "Zk4OI6U9UD-r",
        "outputId": "e09a3c74-cf77-44bf-e202-9a019c57194d"
      },
      "outputs": [
        {
          "name": "stdout",
          "output_type": "stream",
          "text": [
            "0 sex\n",
            "1 cp\n",
            "2 fbs\n",
            "3 restecg\n",
            "4 exang\n",
            "5 slope\n",
            "6 ca\n"
          ]
        }
      ],
      "source": [
        "cat_vars = ['sex','cp','fbs','restecg','exang','slope','ca']\n",
        "for idx, col in enumerate(cat_vars):\n",
        "    print(idx, col)"
      ]
    },
    {
      "cell_type": "raw",
      "metadata": {
        "id": "rDQNe-M-UD-r"
      },
      "source": [
        "REGRESSION\n",
        "- x(numeric) vs y(numeric) ---> scatter plot, correlation [pairplot]\n",
        "- x(categorical) vs y(numeric) ---> for each category in categorical variable --> mean of y\n",
        "\n",
        "CLASSIFICATION\n",
        "- x (categorical) vs y[0/1] (binary categorical variable)\n",
        "- x (numeric) vs y[0/1] (binary categorical variable) --> pd.qcut --> categorize x\n",
        "\n",
        "--- for each category in categorical variable --> mean of y"
      ]
    },
    {
      "cell_type": "code",
      "execution_count": null,
      "metadata": {
        "id": "SpygU8m5UD-s",
        "outputId": "38670575-24b5-41e5-d4e8-cda88facee6b"
      },
      "outputs": [
        {
          "data": {
            "text/plain": [
              "<matplotlib.axes._subplots.AxesSubplot at 0x7f9165c942b0>"
            ]
          },
          "execution_count": 11,
          "metadata": {},
          "output_type": "execute_result"
        },
        {
          "data": {
            "image/png": "[encoded data removed]",
            "text/plain": [
              "<Figure size 432x288 with 1 Axes>"
            ]
          },
          "metadata": {
            "needs_background": "light"
          },
          "output_type": "display_data"
        }
      ],
      "source": [
        "dat.groupby(['sex'])['target'].mean().plot(kind='bar')"
      ]
    },
    {
      "cell_type": "code",
      "execution_count": null,
      "metadata": {
        "id": "PVbvGI_rUD-s",
        "outputId": "05d59746-b85d-4fda-88b0-b094c163f861"
      },
      "outputs": [
        {
          "data": {
            "text/plain": [
              "<matplotlib.axes._subplots.AxesSubplot at 0x7f9165d3ff40>"
            ]
          },
          "execution_count": 14,
          "metadata": {},
          "output_type": "execute_result"
        },
        {
          "data": {
            "image/png": "[encoded data removed]",
            "text/plain": [
              "<Figure size 432x288 with 1 Axes>"
            ]
          },
          "metadata": {
            "needs_background": "light"
          },
          "output_type": "display_data"
        }
      ],
      "source": [
        "dat['thalach_bins'] = pd.qcut(dat['thalach'], q=3)\n",
        "dat.groupby(['thalach_bins'])['target'].mean().plot(kind='bar')"
      ]
    },
    {
      "cell_type": "code",
      "execution_count": null,
      "metadata": {
        "id": "LMphFIQ_UD-t",
        "outputId": "b0c3c381-543c-4f3f-9d90-2e4b3a6ffa4b"
      },
      "outputs": [
        {
          "name": "stdout",
          "output_type": "stream",
          "text": [
            "0 0 0\n",
            "1 0 1\n",
            "2 0 2\n",
            "3 1 0\n",
            "4 1 1\n",
            "5 1 2\n",
            "6 2 0\n"
          ]
        }
      ],
      "source": [
        "cat_vars = ['sex','cp','fbs','restecg','exang','slope','ca']\n",
        "for idx, col in enumerate(cat_vars):\n",
        "    print(idx, int(idx/3), idx%3)"
      ]
    },
    {
      "cell_type": "code",
      "execution_count": null,
      "metadata": {
        "id": "NYpng3x_UD-t",
        "outputId": "b84ff7cc-0b21-4954-c02e-75757029ac49"
      },
      "outputs": [
        {
          "data": {
            "image/png": "[encoded data removed]",
            "text/plain": [
              "<Figure size 720x576 with 9 Axes>"
            ]
          },
          "metadata": {
            "needs_background": "light"
          },
          "output_type": "display_data"
        }
      ],
      "source": [
        "cat_vars = ['restecg', 'sex','cp','fbs','exang','slope','ca']\n",
        "fig, axes = plt.subplots(nrows=3, ncols=3, figsize=(10,8))\n",
        "for idx, col in enumerate(cat_vars):\n",
        "    pos = axes[int(idx/3), idx%3]\n",
        "    dat.groupby(col)['target'].mean().plot(kind='bar', ax=pos)"
      ]
    },
    {
      "cell_type": "code",
      "execution_count": null,
      "metadata": {
        "id": "g4Fs0mAZUD-u",
        "outputId": "686e98d7-797c-4736-8633-128f0ee40ee7"
      },
      "outputs": [
        {
          "name": "stdout",
          "output_type": "stream",
          "text": [
            "0 0 0\n",
            "1 0 1\n",
            "2 1 0\n",
            "3 1 1\n",
            "4 2 0\n"
          ]
        }
      ],
      "source": [
        "cat_vars = ['restecg', 'sex','cp','fbs','exang']\n",
        "for idx, col in enumerate(cat_vars):\n",
        "    print(idx, int(idx/2), idx%2)"
      ]
    },
    {
      "cell_type": "code",
      "execution_count": null,
      "metadata": {
        "id": "V_73aYHAUD-v"
      },
      "outputs": [],
      "source": [
        "# cat_vars = ['restecg', 'sex','cp','fbs','exang']\n",
        "# fig, axes = plt.subplots(nrows=2, ncols=3, figsize=(10,6))\n",
        "# for idx, col in enumerate(cat_vars):\n",
        "#     pos = axes[int(idx/3), idx%3]\n",
        "#     dat.groupby(col)['target'].mean().plot(kind='bar', ax=pos)"
      ]
    },
    {
      "cell_type": "code",
      "execution_count": null,
      "metadata": {
        "id": "5SnjPYWtUD-v",
        "outputId": "7150b78a-05ba-4750-e87a-23711884e819"
      },
      "outputs": [
        {
          "data": {
            "text/html": [
              "<div>\n",
              "<style scoped>\n",
              "    .dataframe tbody tr th:only-of-type {\n",
              "        vertical-align: middle;\n",
              "    }\n",
              "\n",
              "    .dataframe tbody tr th {\n",
              "        vertical-align: top;\n",
              "    }\n",
              "\n",
              "    .dataframe thead th {\n",
              "        text-align: right;\n",
              "    }\n",
              "</style>\n",
              "<table border=\"1\" class=\"dataframe\">\n",
              "  <thead>\n",
              "    <tr style=\"text-align: right;\">\n",
              "      <th></th>\n",
              "      <th>age</th>\n",
              "      <th>sex</th>\n",
              "      <th>cp</th>\n",
              "      <th>trestbps</th>\n",
              "      <th>chol</th>\n",
              "      <th>fbs</th>\n",
              "      <th>restecg</th>\n",
              "      <th>thalach</th>\n",
              "      <th>exang</th>\n",
              "      <th>oldpeak</th>\n",
              "      <th>slope</th>\n",
              "      <th>ca</th>\n",
              "      <th>target</th>\n",
              "      <th>thalach_bins</th>\n",
              "    </tr>\n",
              "  </thead>\n",
              "  <tbody>\n",
              "    <tr>\n",
              "      <th>0</th>\n",
              "      <td>63</td>\n",
              "      <td>1</td>\n",
              "      <td>3</td>\n",
              "      <td>145</td>\n",
              "      <td>233</td>\n",
              "      <td>1</td>\n",
              "      <td>0</td>\n",
              "      <td>150</td>\n",
              "      <td>0</td>\n",
              "      <td>2.3</td>\n",
              "      <td>0</td>\n",
              "      <td>0</td>\n",
              "      <td>1</td>\n",
              "      <td>(143.0, 162.0]</td>\n",
              "    </tr>\n",
              "    <tr>\n",
              "      <th>1</th>\n",
              "      <td>37</td>\n",
              "      <td>1</td>\n",
              "      <td>2</td>\n",
              "      <td>130</td>\n",
              "      <td>250</td>\n",
              "      <td>0</td>\n",
              "      <td>1</td>\n",
              "      <td>187</td>\n",
              "      <td>0</td>\n",
              "      <td>3.5</td>\n",
              "      <td>0</td>\n",
              "      <td>0</td>\n",
              "      <td>1</td>\n",
              "      <td>(162.0, 202.0]</td>\n",
              "    </tr>\n",
              "    <tr>\n",
              "      <th>2</th>\n",
              "      <td>41</td>\n",
              "      <td>0</td>\n",
              "      <td>1</td>\n",
              "      <td>130</td>\n",
              "      <td>204</td>\n",
              "      <td>0</td>\n",
              "      <td>0</td>\n",
              "      <td>172</td>\n",
              "      <td>0</td>\n",
              "      <td>1.4</td>\n",
              "      <td>2</td>\n",
              "      <td>0</td>\n",
              "      <td>1</td>\n",
              "      <td>(162.0, 202.0]</td>\n",
              "    </tr>\n",
              "    <tr>\n",
              "      <th>3</th>\n",
              "      <td>56</td>\n",
              "      <td>1</td>\n",
              "      <td>1</td>\n",
              "      <td>120</td>\n",
              "      <td>236</td>\n",
              "      <td>0</td>\n",
              "      <td>1</td>\n",
              "      <td>178</td>\n",
              "      <td>0</td>\n",
              "      <td>0.8</td>\n",
              "      <td>2</td>\n",
              "      <td>0</td>\n",
              "      <td>1</td>\n",
              "      <td>(162.0, 202.0]</td>\n",
              "    </tr>\n",
              "    <tr>\n",
              "      <th>4</th>\n",
              "      <td>57</td>\n",
              "      <td>0</td>\n",
              "      <td>0</td>\n",
              "      <td>120</td>\n",
              "      <td>354</td>\n",
              "      <td>0</td>\n",
              "      <td>1</td>\n",
              "      <td>163</td>\n",
              "      <td>1</td>\n",
              "      <td>0.6</td>\n",
              "      <td>2</td>\n",
              "      <td>0</td>\n",
              "      <td>1</td>\n",
              "      <td>(162.0, 202.0]</td>\n",
              "    </tr>\n",
              "  </tbody>\n",
              "</table>\n",
              "</div>"
            ],
            "text/plain": [
              "   age  sex  cp  trestbps  chol  fbs  restecg  thalach  exang  oldpeak  slope  \\\n",
              "0   63    1   3       145   233    1        0      150      0      2.3      0   \n",
              "1   37    1   2       130   250    0        1      187      0      3.5      0   \n",
              "2   41    0   1       130   204    0        0      172      0      1.4      2   \n",
              "3   56    1   1       120   236    0        1      178      0      0.8      2   \n",
              "4   57    0   0       120   354    0        1      163      1      0.6      2   \n",
              "\n",
              "   ca  target    thalach_bins  \n",
              "0   0       1  (143.0, 162.0]  \n",
              "1   0       1  (162.0, 202.0]  \n",
              "2   0       1  (162.0, 202.0]  \n",
              "3   0       1  (162.0, 202.0]  \n",
              "4   0       1  (162.0, 202.0]  "
            ]
          },
          "execution_count": 28,
          "metadata": {},
          "output_type": "execute_result"
        }
      ],
      "source": [
        "dat.head()"
      ]
    },
    {
      "cell_type": "code",
      "execution_count": null,
      "metadata": {
        "id": "DSTXSZFhUD-v",
        "outputId": "15c5cd0a-4433-46f8-cb87-6496d3e16a81"
      },
      "outputs": [
        {
          "name": "stdout",
          "output_type": "stream",
          "text": [
            "my score is 20\n"
          ]
        }
      ],
      "source": [
        "a = '20'\n",
        "print(\"my score is {}\".format(a))"
      ]
    },
    {
      "cell_type": "code",
      "execution_count": null,
      "metadata": {
        "id": "DZ-0wmBXUD-w",
        "outputId": "5460a606-6e9f-41eb-8fa9-48ba09e19824"
      },
      "outputs": [
        {
          "name": "stdout",
          "output_type": "stream",
          "text": [
            "my score is 20\n"
          ]
        }
      ],
      "source": [
        "a = '20'\n",
        "print(f\"my score is {a}\")"
      ]
    },
    {
      "cell_type": "code",
      "execution_count": null,
      "metadata": {
        "id": "82QeEV9xUD-w",
        "outputId": "e83ee3c5-f11b-41ad-ad12-8a98223eac45"
      },
      "outputs": [
        {
          "name": "stdout",
          "output_type": "stream",
          "text": [
            "age_bins\n",
            "trestbps_bins\n",
            "chol_bins\n",
            "thalach_bins\n",
            "oldpeak_bins\n"
          ]
        }
      ],
      "source": [
        "num_vars = ['age', 'trestbps','chol','thalach','oldpeak']\n",
        "for idx, col in enumerate(num_vars):\n",
        "    #print(col)\n",
        "    print(col + '_bins')\n",
        "    #print(f'{col}_bins')"
      ]
    },
    {
      "cell_type": "code",
      "execution_count": null,
      "metadata": {
        "id": "BmGunOT_UD-x",
        "outputId": "ad9ca0a2-988a-4703-d4af-423232017ac7"
      },
      "outputs": [
        {
          "data": {
            "image/png": "[encoded data removed]",
            "text/plain": [
              "<Figure size 1800x720 with 6 Axes>"
            ]
          },
          "metadata": {
            "needs_background": "light"
          },
          "output_type": "display_data"
        }
      ],
      "source": [
        "num_vars = ['age', 'trestbps','chol','thalach','oldpeak']\n",
        "fig, axes = plt.subplots(nrows=2, ncols=3, figsize=(25,10))\n",
        "for idx, col in enumerate(num_vars):\n",
        "    pos = axes[int(idx/3), idx%3]\n",
        "    dat[col+'_bins'] = pd.qcut(dat[col], q=3)\n",
        "    dat.groupby(col+'_bins')['target'].mean().plot(kind='bar', ax=pos, rot=0)"
      ]
    },
    {
      "cell_type": "code",
      "execution_count": null,
      "metadata": {
        "id": "7jJdD8v4UD-x",
        "outputId": "4843f1f8-2aa6-40a4-dedf-a350276c99e8"
      },
      "outputs": [
        {
          "data": {
            "text/plain": [
              "age              0\n",
              "sex              0\n",
              "cp               0\n",
              "trestbps         0\n",
              "chol             0\n",
              "fbs              0\n",
              "restecg          0\n",
              "thalach          0\n",
              "exang            0\n",
              "oldpeak          0\n",
              "slope            0\n",
              "ca               0\n",
              "target           0\n",
              "thalach_bins     0\n",
              "age_bins         0\n",
              "trestbps_bins    0\n",
              "chol_bins        0\n",
              "oldpeak_bins     0\n",
              "dtype: int64"
            ]
          },
          "execution_count": 43,
          "metadata": {},
          "output_type": "execute_result"
        }
      ],
      "source": [
        "dat.isnull().sum()"
      ]
    },
    {
      "cell_type": "code",
      "execution_count": null,
      "metadata": {
        "id": "5F10xQQbUD-y",
        "outputId": "56f4ea9c-6040-46b9-f395-a075c95a5646"
      },
      "outputs": [
        {
          "data": {
            "text/plain": [
              "Index(['age', 'sex', 'cp', 'trestbps', 'chol', 'fbs', 'restecg', 'thalach',\n",
              "       'exang', 'oldpeak', 'slope', 'ca', 'target', 'thalach_bins', 'age_bins',\n",
              "       'trestbps_bins', 'chol_bins', 'oldpeak_bins'],\n",
              "      dtype='object')"
            ]
          },
          "execution_count": 44,
          "metadata": {},
          "output_type": "execute_result"
        }
      ],
      "source": [
        "dat.columns"
      ]
    },
    {
      "cell_type": "code",
      "execution_count": null,
      "metadata": {
        "id": "2GnqK7IxUD-y",
        "outputId": "8924d322-6d89-4b12-e61d-3d03ce67e764"
      },
      "outputs": [
        {
          "data": {
            "text/plain": [
              "((303, 12), (303,))"
            ]
          },
          "execution_count": 45,
          "metadata": {},
          "output_type": "execute_result"
        }
      ],
      "source": [
        "# tree based models --> no outlier treat, no standardization is required\n",
        "\n",
        "X = dat[['age', 'sex', 'cp', 'trestbps', 'chol', 'fbs', 'restecg', 'thalach',\n",
        "       'exang', 'oldpeak', 'slope', 'ca']]\n",
        "\n",
        "y = dat['target']\n",
        "\n",
        "X.shape, y.shape"
      ]
    },
    {
      "cell_type": "code",
      "execution_count": null,
      "metadata": {
        "id": "OCBXWMqCUD-z",
        "outputId": "d16c6224-9aee-4934-c02d-91260eba8dd1"
      },
      "outputs": [
        {
          "data": {
            "text/plain": [
              "((212, 12), (91, 12))"
            ]
          },
          "execution_count": 46,
          "metadata": {},
          "output_type": "execute_result"
        }
      ],
      "source": [
        "# split --> train test\n",
        "from sklearn.model_selection import train_test_split\n",
        "x_train, x_test, y_train, y_test = train_test_split(X, y, test_size=0.3, random_state=0)\n",
        "x_train.shape, x_test.shape"
      ]
    },
    {
      "cell_type": "code",
      "execution_count": null,
      "metadata": {
        "id": "fIR0mOyyUD-z",
        "outputId": "dcdb537a-e3ce-47f8-edb9-572e27f295d3"
      },
      "outputs": [
        {
          "data": {
            "text/plain": [
              "DecisionTreeClassifier(max_depth=3, random_state=12)"
            ]
          },
          "execution_count": 59,
          "metadata": {},
          "output_type": "execute_result"
        }
      ],
      "source": [
        "# DECISION TREE\n",
        "from sklearn.tree import DecisionTreeClassifier\n",
        "dec_clf = DecisionTreeClassifier(max_depth=3, random_state=12)\n",
        "dec_clf.fit(x_train, y_train)"
      ]
    },
    {
      "cell_type": "code",
      "execution_count": null,
      "metadata": {
        "id": "TBbi3aSWUD-0",
        "outputId": "4ed5b77d-95c4-4e22-998c-9ad7e2518586"
      },
      "outputs": [
        {
          "data": {
            "text/plain": [
              "array([0, 1, 1, 0, 1, 1, 0, 0, 0, 0, 1, 1, 0, 1, 1, 1, 0, 1, 0, 1, 1, 1,\n",
              "       1, 0, 1, 1, 0, 1, 1, 1, 0, 0, 1, 1, 1, 0, 0, 1, 0, 0, 1, 0, 1, 0,\n",
              "       1, 1, 0, 1, 0, 1, 1, 1, 1, 1, 1, 0, 1, 1, 1, 1, 1, 1, 1, 1, 0, 1,\n",
              "       1, 0, 1, 0, 1, 1, 1, 0, 0, 1, 0, 0, 1, 1, 0, 0, 1, 1, 0, 1, 0, 1,\n",
              "       0, 1, 0])"
            ]
          },
          "execution_count": 60,
          "metadata": {},
          "output_type": "execute_result"
        }
      ],
      "source": [
        "dec_clf.predict(x_test)"
      ]
    },
    {
      "cell_type": "code",
      "execution_count": null,
      "metadata": {
        "id": "2zhEplxmUD-0",
        "outputId": "fd10f0bd-3eef-4562-ec33-e094b66e51c2"
      },
      "outputs": [
        {
          "data": {
            "text/plain": [
              "0.8035714285714286"
            ]
          },
          "execution_count": 61,
          "metadata": {},
          "output_type": "execute_result"
        }
      ],
      "source": [
        "from sklearn.metrics import roc_auc_score\n",
        "roc_auc_score(dec_clf.predict(x_test), y_test)"
      ]
    },
    {
      "cell_type": "code",
      "execution_count": null,
      "metadata": {
        "id": "_kjCzRUQUD-1",
        "outputId": "e76467be-1ccb-4f56-900e-9e04bd157c2b"
      },
      "outputs": [
        {
          "name": "stdout",
          "output_type": "stream",
          "text": [
            "              precision    recall  f1-score   support\n",
            "\n",
            "           0       0.57      0.83      0.68        30\n",
            "           1       0.89      0.69      0.78        61\n",
            "\n",
            "    accuracy                           0.74        91\n",
            "   macro avg       0.73      0.76      0.73        91\n",
            "weighted avg       0.79      0.74      0.74        91\n",
            "\n"
          ]
        }
      ],
      "source": [
        "from sklearn.metrics import roc_auc_score, classification_report\n",
        "print(classification_report(dec_clf.predict(x_test), y_test))"
      ]
    },
    {
      "cell_type": "code",
      "execution_count": null,
      "metadata": {
        "id": "A1RcpuW8UD-1",
        "outputId": "e8722c8b-813a-4291-bc91-c38d8cce3206"
      },
      "outputs": [
        {
          "data": {
            "text/plain": [
              "GridSearchCV(cv=3, estimator=DecisionTreeClassifier(random_state=123),\n",
              "             param_grid={'max_depth': [1, 2, 3, 4],\n",
              "                         'min_samples_leaf': [1, 2, 3]},\n",
              "             scoring='roc_auc')"
            ]
          },
          "execution_count": 64,
          "metadata": {},
          "output_type": "execute_result"
        }
      ],
      "source": [
        "# HYPERPARAMETER\n",
        "\n",
        "from sklearn.tree import DecisionTreeClassifier\n",
        "from sklearn.model_selection import GridSearchCV\n",
        "\n",
        "dtree_clf = DecisionTreeClassifier(random_state = 123)\n",
        "\n",
        "params = {\n",
        "\n",
        "    'min_samples_leaf' : [1, 2, 3], # minimum samples to be there in the leaf\n",
        "    'max_depth': [1, 2, 3, 4] # maximum depth the decisoon tree can have\n",
        "\n",
        "}\n",
        "\n",
        "grid = GridSearchCV(estimator = dtree_clf,\n",
        "             param_grid = params,\n",
        "             cv = 3, # 3-fold cross-validation\n",
        "             scoring = 'roc_auc')\n",
        "\n",
        "grid.fit(x_train, y_train)"
      ]
    },
    {
      "cell_type": "code",
      "execution_count": null,
      "metadata": {
        "id": "rGJZohjGUD-2",
        "outputId": "b56e3245-f957-4063-abeb-9251d214a4eb"
      },
      "outputs": [
        {
          "data": {
            "text/plain": [
              "{'mean_fit_time': array([0.00849422, 0.00375724, 0.00292428, 0.00299994, 0.00323272,\n",
              "        0.00273101, 0.00271233, 0.00248973, 0.0028882 , 0.00257532,\n",
              "        0.00262332, 0.00278195]),\n",
              " 'std_fit_time': array([5.41045210e-03, 8.86450986e-04, 3.11373346e-04, 6.00492626e-04,\n",
              "        4.68324291e-04, 2.15139387e-04, 3.42027183e-04, 8.72703917e-05,\n",
              "        2.83839763e-04, 9.89865653e-05, 6.34877235e-05, 2.83278486e-04]),\n",
              " 'mean_score_time': array([0.00465218, 0.00291204, 0.00229263, 0.00261998, 0.00222301,\n",
              "        0.00267903, 0.00241899, 0.00204349, 0.00216142, 0.00237664,\n",
              "        0.00249076, 0.0021201 ]),\n",
              " 'std_score_time': array([2.56023153e-03, 4.11001960e-04, 2.76826524e-04, 4.83467301e-04,\n",
              "        1.28429666e-04, 7.19821591e-04, 1.73896242e-04, 1.30427530e-05,\n",
              "        9.81316377e-05, 2.56387181e-04, 2.45530471e-04, 4.72110261e-05]),\n",
              " 'param_max_depth': masked_array(data=[1, 1, 1, 2, 2, 2, 3, 3, 3, 4, 4, 4],\n",
              "              mask=[False, False, False, False, False, False, False, False,\n",
              "                    False, False, False, False],\n",
              "        fill_value='?',\n",
              "             dtype=object),\n",
              " 'param_min_samples_leaf': masked_array(data=[1, 2, 3, 1, 2, 3, 1, 2, 3, 1, 2, 3],\n",
              "              mask=[False, False, False, False, False, False, False, False,\n",
              "                    False, False, False, False],\n",
              "        fill_value='?',\n",
              "             dtype=object),\n",
              " 'params': [{'max_depth': 1, 'min_samples_leaf': 1},\n",
              "  {'max_depth': 1, 'min_samples_leaf': 2},\n",
              "  {'max_depth': 1, 'min_samples_leaf': 3},\n",
              "  {'max_depth': 2, 'min_samples_leaf': 1},\n",
              "  {'max_depth': 2, 'min_samples_leaf': 2},\n",
              "  {'max_depth': 2, 'min_samples_leaf': 3},\n",
              "  {'max_depth': 3, 'min_samples_leaf': 1},\n",
              "  {'max_depth': 3, 'min_samples_leaf': 2},\n",
              "  {'max_depth': 3, 'min_samples_leaf': 3},\n",
              "  {'max_depth': 4, 'min_samples_leaf': 1},\n",
              "  {'max_depth': 4, 'min_samples_leaf': 2},\n",
              "  {'max_depth': 4, 'min_samples_leaf': 3}],\n",
              " 'split0_test_score': array([0.69395161, 0.69395161, 0.69395161, 0.73991935, 0.73991935,\n",
              "        0.73991935, 0.64879032, 0.68306452, 0.68306452, 0.64596774,\n",
              "        0.71532258, 0.68548387]),\n",
              " 'split1_test_score': array([0.73397436, 0.73397436, 0.73397436, 0.83333333, 0.83333333,\n",
              "        0.83333333, 0.81730769, 0.81730769, 0.81730769, 0.74799679,\n",
              "        0.7724359 , 0.78886218]),\n",
              " 'split2_test_score': array([0.63937138, 0.63937138, 0.63937138, 0.77750207, 0.77750207,\n",
              "        0.77750207, 0.77915633, 0.79859388, 0.81224152, 0.75558313,\n",
              "        0.73986766, 0.84449959]),\n",
              " 'mean_test_score': array([0.68909912, 0.68909912, 0.68909912, 0.78358492, 0.78358492,\n",
              "        0.78358492, 0.74841811, 0.76632203, 0.77087124, 0.71651589,\n",
              "        0.74254205, 0.77294855]),\n",
              " 'std_test_score': array([0.03877362, 0.03877362, 0.03877362, 0.03837789, 0.03837789,\n",
              "        0.03837789, 0.07214871, 0.0593656 , 0.06212317, 0.04998112,\n",
              "        0.02339298, 0.06588592]),\n",
              " 'rank_test_score': array([10, 10, 10,  1,  1,  1,  7,  6,  5,  9,  8,  4], dtype=int32)}"
            ]
          },
          "execution_count": 67,
          "metadata": {},
          "output_type": "execute_result"
        }
      ],
      "source": [
        "grid.cv_results_"
      ]
    },
    {
      "cell_type": "code",
      "execution_count": null,
      "metadata": {
        "id": "_ItNjNbRUD-2",
        "outputId": "7bc53efe-6df3-40fd-bc19-2924f7281f21"
      },
      "outputs": [
        {
          "data": {
            "text/plain": [
              "{'max_depth': 2, 'min_samples_leaf': 1}"
            ]
          },
          "execution_count": 68,
          "metadata": {},
          "output_type": "execute_result"
        }
      ],
      "source": [
        "grid.best_params_"
      ]
    },
    {
      "cell_type": "code",
      "execution_count": null,
      "metadata": {
        "id": "zCSubCLyUD-2",
        "outputId": "da437cd3-8239-41d3-914b-a32d3f3d938c"
      },
      "outputs": [
        {
          "data": {
            "text/plain": [
              "0.7835849186655638"
            ]
          },
          "execution_count": 69,
          "metadata": {},
          "output_type": "execute_result"
        }
      ],
      "source": [
        "grid.best_score_"
      ]
    },
    {
      "cell_type": "code",
      "execution_count": null,
      "metadata": {
        "id": "Q1zWBhKsUD-3",
        "outputId": "c211ef7d-6993-4d76-ebe0-6b508eec0449"
      },
      "outputs": [
        {
          "data": {
            "text/plain": [
              "DecisionTreeClassifier(max_depth=2, random_state=123)"
            ]
          },
          "execution_count": 71,
          "metadata": {},
          "output_type": "execute_result"
        }
      ],
      "source": [
        "grid.best_estimator_"
      ]
    },
    {
      "cell_type": "code",
      "execution_count": null,
      "metadata": {
        "id": "agnRkH7-UD-3",
        "outputId": "359fe263-c079-47d6-dcf2-7efd9ced6026"
      },
      "outputs": [
        {
          "data": {
            "text/plain": [
              "(212, 12)"
            ]
          },
          "execution_count": 79,
          "metadata": {},
          "output_type": "execute_result"
        }
      ],
      "source": [
        "x_train.shape"
      ]
    },
    {
      "cell_type": "code",
      "execution_count": null,
      "metadata": {
        "id": "M60ivDjmUD-3",
        "outputId": "7462d4eb-16a6-40cc-989e-f41a9ae5ea59"
      },
      "outputs": [
        {
          "data": {
            "text/plain": [
              "142.04000000000002"
            ]
          },
          "execution_count": 81,
          "metadata": {},
          "output_type": "execute_result"
        }
      ],
      "source": [
        "x_train.shape[0]*0.67"
      ]
    },
    {
      "cell_type": "code",
      "execution_count": null,
      "metadata": {
        "id": "BI-dY2qSUD-4",
        "outputId": "9b5d0b5b-68f8-4f73-bf91-adaa9ee0e45a"
      },
      "outputs": [
        {
          "data": {
            "text/plain": [
              "GridSearchCV(cv=3, estimator=RandomForestClassifier(random_state=123),\n",
              "             param_grid={'criterion': ['gini', 'entropy'], 'max_depth': [3, 5],\n",
              "                         'max_features': [2, 3], 'max_samples': [80, 120],\n",
              "                         'min_samples_leaf': [3, 4],\n",
              "                         'min_samples_split': [8, 10],\n",
              "                         'n_estimators': [100, 200]},\n",
              "             scoring='roc_auc')"
            ]
          },
          "execution_count": 82,
          "metadata": {},
          "output_type": "execute_result"
        }
      ],
      "source": [
        "# random forest\n",
        "\n",
        "from sklearn.ensemble import RandomForestClassifier\n",
        "from sklearn.model_selection import GridSearchCV\n",
        "\n",
        "rf_clf = RandomForestClassifier(random_state=123)\n",
        "\n",
        "params = {\n",
        "\n",
        "    'n_estimators' : [100,200], # number of trees\n",
        "    'max_depth' : [3,5], # max depth of these trees\n",
        "    'max_samples' : [80, 120 ], # max number of samples for the trees\n",
        "    'max_features' : [2,3], # max number of features to go into the tree\n",
        "    'min_samples_leaf' : [3,4], # minimum samples to be there in the leaf\n",
        "    'min_samples_split' : [8,10], # minimum number of samples to be there split further\n",
        "    'criterion' : ['gini', 'entropy']\n",
        "\n",
        "}\n",
        "\n",
        "grid = GridSearchCV(estimator = rf_clf,\n",
        "             param_grid = params,\n",
        "             cv = 3, # 3-fold cross-validation\n",
        "             scoring = 'roc_auc')\n",
        "\n",
        "grid.fit(x_train, y_train)"
      ]
    },
    {
      "cell_type": "code",
      "execution_count": null,
      "metadata": {
        "id": "k4qaQbcxUD-4",
        "outputId": "173034ef-3be8-45bb-8722-4f856b901df1"
      },
      "outputs": [
        {
          "data": {
            "text/plain": [
              "RandomForestClassifier(criterion='entropy', max_depth=5, max_features=3,\n",
              "                       max_samples=120, min_samples_leaf=3, min_samples_split=8,\n",
              "                       random_state=123)"
            ]
          },
          "execution_count": 83,
          "metadata": {},
          "output_type": "execute_result"
        }
      ],
      "source": [
        "grid.best_estimator_"
      ]
    },
    {
      "cell_type": "code",
      "execution_count": null,
      "metadata": {
        "id": "PzlZvduMUD-5",
        "outputId": "01ae6586-c250-4761-b4eb-b20fabde24fc"
      },
      "outputs": [
        {
          "data": {
            "text/plain": [
              "{'criterion': 'entropy',\n",
              " 'max_depth': 5,\n",
              " 'max_features': 3,\n",
              " 'max_samples': 120,\n",
              " 'min_samples_leaf': 3,\n",
              " 'min_samples_split': 8,\n",
              " 'n_estimators': 100}"
            ]
          },
          "execution_count": 84,
          "metadata": {},
          "output_type": "execute_result"
        }
      ],
      "source": [
        "grid.best_params_"
      ]
    },
    {
      "cell_type": "code",
      "execution_count": null,
      "metadata": {
        "id": "FamF8sOtUD-5",
        "outputId": "33ba7f2c-e2e7-464c-8ffa-db4fc7651cb4"
      },
      "outputs": [
        {
          "data": {
            "text/plain": [
              "0.9018610421836227"
            ]
          },
          "execution_count": 85,
          "metadata": {},
          "output_type": "execute_result"
        }
      ],
      "source": [
        "grid.best_score_"
      ]
    },
    {
      "cell_type": "code",
      "execution_count": null,
      "metadata": {
        "id": "_OtyQkV6UD-5"
      },
      "outputs": [],
      "source": []
    },
    {
      "cell_type": "code",
      "execution_count": null,
      "metadata": {
        "id": "UPNoYYxRUD-5",
        "outputId": "8c2e9906-8587-419e-90cf-d107a6d99511"
      },
      "outputs": [
        {
          "data": {
            "text/plain": [
              "0.9685358817165524"
            ]
          },
          "execution_count": 88,
          "metadata": {},
          "output_type": "execute_result"
        }
      ],
      "source": [
        "roc_auc_score(y_train,  grid.best_estimator_.predict_proba(x_train)[:,1])"
      ]
    },
    {
      "cell_type": "code",
      "execution_count": null,
      "metadata": {
        "id": "mPbAwZ3iUD-6",
        "outputId": "1d60023f-1d7b-4b85-869c-a50809b7499a"
      },
      "outputs": [
        {
          "data": {
            "text/plain": [
              "0.8955512572533849"
            ]
          },
          "execution_count": 89,
          "metadata": {},
          "output_type": "execute_result"
        }
      ],
      "source": [
        "roc_auc_score(y_test,  grid.best_estimator_.predict_proba(x_test)[:,1])"
      ]
    },
    {
      "cell_type": "code",
      "execution_count": null,
      "metadata": {
        "id": "yB0dthuFUD-6"
      },
      "outputs": [],
      "source": []
    }
  ],
  "metadata": {
    "kernelspec": {
      "display_name": "Python 3",
      "language": "python",
      "name": "python3"
    },
    "language_info": {
      "codemirror_mode": {
        "name": "ipython",
        "version": 3
      },
      "file_extension": ".py",
      "mimetype": "text/x-python",
      "name": "python",
      "nbconvert_exporter": "python",
      "pygments_lexer": "ipython3",
      "version": "3.8.3"
    },
    "colab": {
      "provenance": []
    }
  },
  "nbformat": 4,
  "nbformat_minor": 0
}